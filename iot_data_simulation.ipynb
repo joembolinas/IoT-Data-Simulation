{
 "cells": [
  {
   "cell_type": "markdown",
   "id": "74f0c329",
   "metadata": {},
   "source": [
    "# IoT Data Simulation - Environmental Monitoring\n",
    "\n",
    "This notebook demonstrates how to generate simulated IoT sensor data for environmental monitoring using Python. We'll create data points including temperature, humidity, and air quality measurements from multiple sensors."
   ]
  },
  {
   "cell_type": "markdown",
   "id": "64c13eaa",
   "metadata": {},
   "source": [
    "## Step 1: Install Required Libraries\n",
    "\n",
    "First, let's install the required libraries (if not already installed)."
   ]
  },
  {
   "cell_type": "code",
   "execution_count": null,
   "id": "31f327c7",
   "metadata": {},
   "outputs": [],
   "source": [
    "!pip install pandas"
   ]
  },
  {
   "cell_type": "markdown",
   "id": "da96e374",
   "metadata": {},
   "source": [
    "## Step 2: Import Required Libraries\n",
    "\n",
    "Now, let's import the libraries we need for our simulation."
   ]
  },
  {
   "cell_type": "code",
   "execution_count": null,
   "id": "452b6bd9",
   "metadata": {},
   "outputs": [],
   "source": [
    "import random\n",
    "import time\n",
    "import pandas as pd"
   ]
  },
  {
   "cell_type": "markdown",
   "id": "9fedbebd",
   "metadata": {},
   "source": [
    "## Step 3: Define the Function to Generate IoT Data\n",
    "\n",
    "Let's create a function that will generate environmental monitoring data."
   ]
  },
  {
   "cell_type": "code",
   "execution_count": null,
   "id": "15da86f9",
   "metadata": {},
   "outputs": [],
   "source": [
    "def generate_iot_data(samples=10):\n",
    "    \"\"\"\n",
    "    Generates simulated IoT sensor data for Environmental Monitoring.\n",
    "    \n",
    "    Parameters:\n",
    "        samples (int): Number of data points to generate\n",
    "    \n",
    "    Returns:\n",
    "        pd.DataFrame: DataFrame containing the generated IoT data\n",
    "    \"\"\"\n",
    "    data = []\n",
    "    for i in range(samples):\n",
    "        sensor_id = f\"Sensor{i+1}\"\n",
    "        temperature = round(random.uniform(20.0, 35.0), 2)  # Temperature in Celsius\n",
    "        humidity = random.randint(40, 80)  # Humidity percentage\n",
    "        air_quality = random.randint(50, 200)  # Air Quality Index (AQI)\n",
    "        timestamp = time.strftime(\"%Y-%m-%d %H:%M:%S\")  # Current timestamp\n",
    "        data.append([sensor_id, temperature, humidity, air_quality, timestamp])\n",
    "        time.sleep(1)  # Simulate real-time data collection\n",
    "    return pd.DataFrame(data, columns=[\"SensorID\", \"Temperature (°C)\", \"Humidity (%)\", \"Air Quality Index (AQI)\", \"Timestamp\"])"
   ]
  },
  {
   "cell_type": "markdown",
   "id": "cb79bdca",
   "metadata": {},
   "source": [
    "## Step 4: Generate and Display the Data\n",
    "\n",
    "Now, let's generate a sample dataset and display the first few rows."
   ]
  },
  {
   "cell_type": "code",
   "execution_count": null,
   "id": "56012cad",
   "metadata": {},
   "outputs": [],
   "source": [
    "# Generate 10 rows of simulated IoT data\n",
    "iot_data = generate_iot_data(10)\n",
    "\n",
    "# Display the first few rows of the dataset\n",
    "iot_data.head()"
   ]
  },
  {
   "cell_type": "markdown",
   "id": "db59caf9",
   "metadata": {},
   "source": [
    "## Step 5: Save the Data as a CSV File\n",
    "\n",
    "Let's save our generated data to a CSV file for further use or sharing."
   ]
  },
  {
   "cell_type": "code",
   "execution_count": null,
   "id": "35c9b1a2",
   "metadata": {},
   "outputs": [],
   "source": [
    "# Save the generated data to a CSV file\n",
    "iot_data.to_csv(\"iot_data.csv\", index=False)\n",
    "print(\"IoT data saved successfully as 'iot_data.csv'\")"
   ]
  },
  {
   "cell_type": "markdown",
   "id": "77aa1c4a",
   "metadata": {},
   "source": [
    "## Step 6: Data Visualization (Optional)\n",
    "\n",
    "Let's visualize our data to better understand it."
   ]
  },
  {
   "cell_type": "code",
   "execution_count": null,
   "id": "14c46fbe",
   "metadata": {},
   "outputs": [],
   "source": [
    "# Install plotly if not already installed\n",
    "!pip install plotly"
   ]
  },
  {
   "cell_type": "code",
   "execution_count": null,
   "id": "05daaf55",
   "metadata": {},
   "outputs": [],
   "source": [
    "import plotly.express as px\n",
    "\n",
    "# Create a bar chart for temperature by sensor\n",
    "fig = px.bar(iot_data, x=\"SensorID\", y=\"Temperature (°C)\", title=\"Temperature by Sensor\")\n",
    "fig.show()"
   ]
  },
  {
   "cell_type": "code",
   "execution_count": null,
   "id": "24bcaee8",
   "metadata": {},
   "outputs": [],
   "source": [
    "# Create a scatter plot for Temperature vs Humidity\n",
    "fig = px.scatter(iot_data, x=\"Temperature (°C)\", y=\"Humidity (%)\", \n",
    "                color=\"Air Quality Index (AQI)\", hover_name=\"SensorID\",\n",
    "                title=\"Temperature vs Humidity with Air Quality\")\n",
    "fig.show()"
   ]
  },
  {
   "cell_type": "markdown",
   "id": "64059d4a",
   "metadata": {},
   "source": [
    "## Step 7: Advanced Data Generation (Optional)\n",
    "\n",
    "Let's create a more advanced function that can generate data over time intervals."
   ]
  },
  {
   "cell_type": "code",
   "execution_count": null,
   "id": "3735c4ed",
   "metadata": {},
   "outputs": [],
   "source": [
    "import datetime\n",
    "\n",
    "def generate_time_series_data(num_sensors=3, hours=24, interval_minutes=60):\n",
    "    \"\"\"\n",
    "    Generate time series data for multiple sensors over a specified period.\n",
    "    \n",
    "    Parameters:\n",
    "        num_sensors (int): Number of sensors to simulate\n",
    "        hours (int): Number of hours to simulate\n",
    "        interval_minutes (int): Time interval between readings in minutes\n",
    "        \n",
    "    Returns:\n",
    "        pd.DataFrame: Time series data for environmental monitoring\n",
    "    \"\"\"\n",
    "    data = []\n",
    "    # Start time is 24 hours ago from now\n",
    "    start_time = datetime.datetime.now() - datetime.timedelta(hours=hours)\n",
    "    \n",
    "    # Calculate number of readings based on hours and interval\n",
    "    num_readings = int((hours * 60) / interval_minutes)\n",
    "    \n",
    "    for sensor_num in range(1, num_sensors + 1):\n",
    "        sensor_id = f\"Sensor{sensor_num}\"\n",
    "        \n",
    "        # Base values for this sensor (each sensor has slightly different characteristics)\n",
    "        base_temp = random.uniform(22.0, 28.0)\n",
    "        base_humidity = random.randint(45, 65)\n",
    "        base_aqi = random.randint(80, 150)\n",
    "        \n",
    "        for i in range(num_readings):\n",
    "            # Calculate timestamp for this reading\n",
    "            timestamp = start_time + datetime.timedelta(minutes=i * interval_minutes)\n",
    "            \n",
    "            # Add some random variation to the base values\n",
    "            # Temperature follows a daily cycle\n",
    "            hour_factor = abs(12 - timestamp.hour) / 12  # 0 at noon, 1 at midnight\n",
    "            temperature = round(base_temp - (3 * hour_factor) + random.uniform(-1.0, 1.0), 2)\n",
    "            \n",
    "            # Humidity inversely related to temperature, with some randomness\n",
    "            humidity = min(95, max(30, base_humidity + int(hour_factor * 15) + random.randint(-5, 5)))\n",
    "            \n",
    "            # AQI tends to be worse during rush hours (8am and 5pm)\n",
    "            rush_hour_factor = 0\n",
    "            if timestamp.hour in [8, 17]:\n",
    "                rush_hour_factor = 30\n",
    "            air_quality = min(300, max(50, base_aqi + rush_hour_factor + random.randint(-15, 15)))\n",
    "            \n",
    "            data.append([sensor_id, temperature, humidity, air_quality, timestamp.strftime(\"%Y-%m-%d %H:%M:%S\")])\n",
    "    \n",
    "    return pd.DataFrame(data, columns=[\"SensorID\", \"Temperature (°C)\", \"Humidity (%)\", \"Air Quality Index (AQI)\", \"Timestamp\"])"
   ]
  },
  {
   "cell_type": "code",
   "execution_count": null,
   "id": "a9cc1b47",
   "metadata": {},
   "outputs": [],
   "source": [
    "# Generate time series data for 3 sensors over 24 hours with readings every 30 minutes\n",
    "time_series_data = generate_time_series_data(num_sensors=3, hours=24, interval_minutes=30)\n",
    "\n",
    "# Display the first few rows\n",
    "time_series_data.head()"
   ]
  },
  {
   "cell_type": "code",
   "execution_count": null,
   "id": "2321697a",
   "metadata": {},
   "outputs": [],
   "source": [
    "# Save the time series data to CSV\n",
    "time_series_data.to_csv(\"iot_time_series_data.csv\", index=False)\n",
    "print(\"Time series IoT data saved successfully as 'iot_time_series_data.csv'\")"
   ]
  },
  {
   "cell_type": "markdown",
   "id": "f8e6b825",
   "metadata": {},
   "source": [
    "## Step 8: Visualize Time Series Data (Optional)\n",
    "\n",
    "Let's create some time series visualizations."
   ]
  },
  {
   "cell_type": "code",
   "execution_count": null,
   "id": "76026c55",
   "metadata": {},
   "outputs": [],
   "source": [
    "# Convert timestamp to datetime for better plotting\n",
    "time_series_data['Timestamp'] = pd.to_datetime(time_series_data['Timestamp'])\n",
    "\n",
    "# Create a line plot for temperature over time\n",
    "fig = px.line(time_series_data, x=\"Timestamp\", y=\"Temperature (°C)\", color=\"SensorID\",\n",
    "             title=\"Temperature Readings Over Time\")\n",
    "fig.show()"
   ]
  },
  {
   "cell_type": "markdown",
   "id": "484bf51b",
   "metadata": {},
   "source": [
    "## Conclusion\n",
    "\n",
    "In this notebook, we've demonstrated how to:\n",
    "\n",
    "1. Generate simulated IoT environmental monitoring data\n",
    "2. Create both static and time-series datasets\n",
    "3. Visualize the data in multiple ways\n",
    "4. Save the data to CSV files for further analysis or sharing\n",
    "\n",
    "This simulated data can be used for testing data processing pipelines, building dashboards, or exploring data analysis techniques before working with actual IoT sensor data."
   ]
  }
 ],
 "metadata": {
  "language_info": {
   "name": "python"
  }
 },
 "nbformat": 4,
 "nbformat_minor": 5
}
