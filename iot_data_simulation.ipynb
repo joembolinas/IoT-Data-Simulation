{
 "cells": [
  {
   "cell_type": "markdown",
   "id": "74f0c329",
   "metadata": {},
   "source": [
    "# IoT Data Simulation - Environmental Monitoring\n",
    "\n",
    "This notebook demonstrates how to generate simulated IoT sensor data for environmental monitoring using Python. We'll create data points including temperature, humidity, and air quality measurements from multiple sensors."
   ]
  },
  {
   "cell_type": "markdown",
   "id": "64c13eaa",
   "metadata": {},
   "source": [
    "## Step 1: Install Required Libraries\n",
    "\n",
    "First, let's install the required libraries (if not already installed)."
   ]
  },
  {
   "cell_type": "code",
   "execution_count": 17,
   "id": "31f327c7",
   "metadata": {},
   "outputs": [
    {
     "name": "stdout",
     "output_type": "stream",
     "text": [
      "Requirement already satisfied: pandas in c:\\users\\admin\\desktop\\developer files\\iot-data-simulation\\env\\lib\\site-packages (2.2.3)\n",
      "Requirement already satisfied: numpy>=1.26.0 in c:\\users\\admin\\desktop\\developer files\\iot-data-simulation\\env\\lib\\site-packages (from pandas) (2.2.5)\n",
      "Requirement already satisfied: python-dateutil>=2.8.2 in c:\\users\\admin\\desktop\\developer files\\iot-data-simulation\\env\\lib\\site-packages (from pandas) (2.9.0.post0)\n",
      "Requirement already satisfied: pytz>=2020.1 in c:\\users\\admin\\desktop\\developer files\\iot-data-simulation\\env\\lib\\site-packages (from pandas) (2025.2)\n",
      "Requirement already satisfied: tzdata>=2022.7 in c:\\users\\admin\\desktop\\developer files\\iot-data-simulation\\env\\lib\\site-packages (from pandas) (2025.2)\n",
      "Requirement already satisfied: six>=1.5 in c:\\users\\admin\\desktop\\developer files\\iot-data-simulation\\env\\lib\\site-packages (from python-dateutil>=2.8.2->pandas) (1.17.0)\n"
     ]
    }
   ],
   "source": [
    "!pip install pandas"
   ]
  },
  {
   "cell_type": "markdown",
   "id": "da96e374",
   "metadata": {},
   "source": [
    "## Step 2: Import Required Libraries\n",
    "\n",
    "Now, let's import the libraries we need for our simulation."
   ]
  },
  {
   "cell_type": "code",
   "execution_count": 18,
   "id": "452b6bd9",
   "metadata": {},
   "outputs": [],
   "source": [
    "import random\n",
    "import time\n",
    "import pandas as pd"
   ]
  },
  {
   "cell_type": "markdown",
   "id": "9fedbebd",
   "metadata": {},
   "source": [
    "## Step 3: Define the Function to Generate IoT Data\n",
    "\n",
    "Let's create a function that will generate environmental monitoring data."
   ]
  },
  {
   "cell_type": "code",
   "execution_count": 19,
   "id": "15da86f9",
   "metadata": {},
   "outputs": [],
   "source": [
    "def generate_iot_data(samples=10):\n",
    "    \"\"\"\n",
    "    Generates simulated IoT sensor data for Environmental Monitoring.\n",
    "    \n",
    "    Parameters:\n",
    "        samples (int): Number of data points to generate\n",
    "    \n",
    "    Returns:\n",
    "        pd.DataFrame: DataFrame containing the generated IoT data\n",
    "    \"\"\"\n",
    "    data = []\n",
    "    for i in range(samples):\n",
    "        sensor_id = f\"Sensor{i+1}\"\n",
    "        temperature = round(random.uniform(20.0, 35.0), 2)  # Temperature in Celsius\n",
    "        humidity = random.randint(40, 80)  # Humidity percentage\n",
    "        air_quality = random.randint(50, 200)  # Air Quality Index (AQI)\n",
    "        timestamp = time.strftime(\"%Y-%m-%d %H:%M:%S\")  # Current timestamp\n",
    "        data.append([sensor_id, temperature, humidity, air_quality, timestamp])\n",
    "        time.sleep(1)  # Simulate real-time data collection\n",
    "    return pd.DataFrame(data, columns=[\"SensorID\", \"Temperature (°C)\", \"Humidity (%)\", \"Air Quality Index (AQI)\", \"Timestamp\"])"
   ]
  },
  {
   "cell_type": "markdown",
   "id": "cb79bdca",
   "metadata": {},
   "source": [
    "## Step 4: Generate and Display the Data\n",
    "\n",
    "Now, let's generate a sample dataset and display the first few rows."
   ]
  },
  {
   "cell_type": "code",
   "execution_count": 20,
   "id": "56012cad",
   "metadata": {},
   "outputs": [
    {
     "data": {
      "text/html": [
       "<div>\n",
       "<style scoped>\n",
       "    .dataframe tbody tr th:only-of-type {\n",
       "        vertical-align: middle;\n",
       "    }\n",
       "\n",
       "    .dataframe tbody tr th {\n",
       "        vertical-align: top;\n",
       "    }\n",
       "\n",
       "    .dataframe thead th {\n",
       "        text-align: right;\n",
       "    }\n",
       "</style>\n",
       "<table border=\"1\" class=\"dataframe\">\n",
       "  <thead>\n",
       "    <tr style=\"text-align: right;\">\n",
       "      <th></th>\n",
       "      <th>SensorID</th>\n",
       "      <th>Temperature (°C)</th>\n",
       "      <th>Humidity (%)</th>\n",
       "      <th>Air Quality Index (AQI)</th>\n",
       "      <th>Timestamp</th>\n",
       "    </tr>\n",
       "  </thead>\n",
       "  <tbody>\n",
       "    <tr>\n",
       "      <th>0</th>\n",
       "      <td>Sensor1</td>\n",
       "      <td>25.50</td>\n",
       "      <td>43</td>\n",
       "      <td>93</td>\n",
       "      <td>2025-05-09 09:01:10</td>\n",
       "    </tr>\n",
       "    <tr>\n",
       "      <th>1</th>\n",
       "      <td>Sensor2</td>\n",
       "      <td>25.82</td>\n",
       "      <td>60</td>\n",
       "      <td>116</td>\n",
       "      <td>2025-05-09 09:01:11</td>\n",
       "    </tr>\n",
       "    <tr>\n",
       "      <th>2</th>\n",
       "      <td>Sensor3</td>\n",
       "      <td>26.66</td>\n",
       "      <td>53</td>\n",
       "      <td>110</td>\n",
       "      <td>2025-05-09 09:01:12</td>\n",
       "    </tr>\n",
       "    <tr>\n",
       "      <th>3</th>\n",
       "      <td>Sensor4</td>\n",
       "      <td>28.03</td>\n",
       "      <td>73</td>\n",
       "      <td>133</td>\n",
       "      <td>2025-05-09 09:01:13</td>\n",
       "    </tr>\n",
       "    <tr>\n",
       "      <th>4</th>\n",
       "      <td>Sensor5</td>\n",
       "      <td>26.42</td>\n",
       "      <td>80</td>\n",
       "      <td>107</td>\n",
       "      <td>2025-05-09 09:01:14</td>\n",
       "    </tr>\n",
       "  </tbody>\n",
       "</table>\n",
       "</div>"
      ],
      "text/plain": [
       "  SensorID  Temperature (°C)  Humidity (%)  Air Quality Index (AQI)  \\\n",
       "0  Sensor1             25.50            43                       93   \n",
       "1  Sensor2             25.82            60                      116   \n",
       "2  Sensor3             26.66            53                      110   \n",
       "3  Sensor4             28.03            73                      133   \n",
       "4  Sensor5             26.42            80                      107   \n",
       "\n",
       "             Timestamp  \n",
       "0  2025-05-09 09:01:10  \n",
       "1  2025-05-09 09:01:11  \n",
       "2  2025-05-09 09:01:12  \n",
       "3  2025-05-09 09:01:13  \n",
       "4  2025-05-09 09:01:14  "
      ]
     },
     "execution_count": 20,
     "metadata": {},
     "output_type": "execute_result"
    }
   ],
   "source": [
    "# Generate 10 rows of simulated IoT data\n",
    "iot_data = generate_iot_data(10)\n",
    "\n",
    "# Display the first few rows of the dataset\n",
    "iot_data.head()"
   ]
  },
  {
   "cell_type": "markdown",
   "id": "db59caf9",
   "metadata": {},
   "source": [
    "## Step 5: Save the Data as a CSV File\n",
    "\n",
    "Let's save our generated data to a CSV file for further use or sharing."
   ]
  },
  {
   "cell_type": "code",
   "execution_count": 21,
   "id": "35c9b1a2",
   "metadata": {},
   "outputs": [
    {
     "name": "stdout",
     "output_type": "stream",
     "text": [
      "IoT data saved successfully as 'iot_data.csv'\n"
     ]
    }
   ],
   "source": [
    "# Save the generated data to a CSV file\n",
    "iot_data.to_csv(\"iot_data.csv\", index=False)\n",
    "print(\"IoT data saved successfully as 'iot_data.csv'\")"
   ]
  },
  {
   "cell_type": "markdown",
   "id": "77aa1c4a",
   "metadata": {},
   "source": [
    "## Step 6: Data Visualization (Optional)\n",
    "\n",
    "Let's visualize our data to better understand it."
   ]
  },
  {
   "cell_type": "code",
   "execution_count": 22,
   "id": "14c46fbe",
   "metadata": {},
   "outputs": [
    {
     "name": "stdout",
     "output_type": "stream",
     "text": [
      "Requirement already satisfied: plotly in c:\\users\\admin\\desktop\\developer files\\iot-data-simulation\\env\\lib\\site-packages (6.0.1)\n",
      "Requirement already satisfied: narwhals>=1.15.1 in c:\\users\\admin\\desktop\\developer files\\iot-data-simulation\\env\\lib\\site-packages (from plotly) (1.38.2)\n",
      "Requirement already satisfied: packaging in c:\\users\\admin\\desktop\\developer files\\iot-data-simulation\\env\\lib\\site-packages (from plotly) (25.0)\n"
     ]
    }
   ],
   "source": [
    "# Install plotly if not already installed\n",
    "!pip install plotly"
   ]
  },
  {
   "cell_type": "code",
   "execution_count": 29,
   "id": "a811c052",
   "metadata": {},
   "outputs": [
    {
     "name": "stdout",
     "output_type": "stream",
     "text": [
      "Requirement already satisfied: nbformat in c:\\users\\admin\\desktop\\developer files\\iot-data-simulation\\env\\lib\\site-packages (5.10.4)\n",
      "Requirement already satisfied: fastjsonschema>=2.15 in c:\\users\\admin\\desktop\\developer files\\iot-data-simulation\\env\\lib\\site-packages (from nbformat) (2.21.1)\n",
      "Requirement already satisfied: jsonschema>=2.6 in c:\\users\\admin\\desktop\\developer files\\iot-data-simulation\\env\\lib\\site-packages (from nbformat) (4.23.0)\n",
      "Requirement already satisfied: jupyter-core!=5.0.*,>=4.12 in c:\\users\\admin\\desktop\\developer files\\iot-data-simulation\\env\\lib\\site-packages (from nbformat) (5.7.2)\n",
      "Requirement already satisfied: traitlets>=5.1 in c:\\users\\admin\\desktop\\developer files\\iot-data-simulation\\env\\lib\\site-packages (from nbformat) (5.14.3)\n",
      "Requirement already satisfied: attrs>=22.2.0 in c:\\users\\admin\\desktop\\developer files\\iot-data-simulation\\env\\lib\\site-packages (from jsonschema>=2.6->nbformat) (25.3.0)\n",
      "Requirement already satisfied: jsonschema-specifications>=2023.03.6 in c:\\users\\admin\\desktop\\developer files\\iot-data-simulation\\env\\lib\\site-packages (from jsonschema>=2.6->nbformat) (2025.4.1)\n",
      "Requirement already satisfied: referencing>=0.28.4 in c:\\users\\admin\\desktop\\developer files\\iot-data-simulation\\env\\lib\\site-packages (from jsonschema>=2.6->nbformat) (0.36.2)\n",
      "Requirement already satisfied: rpds-py>=0.7.1 in c:\\users\\admin\\desktop\\developer files\\iot-data-simulation\\env\\lib\\site-packages (from jsonschema>=2.6->nbformat) (0.24.0)\n",
      "Requirement already satisfied: platformdirs>=2.5 in c:\\users\\admin\\desktop\\developer files\\iot-data-simulation\\env\\lib\\site-packages (from jupyter-core!=5.0.*,>=4.12->nbformat) (4.3.8)\n",
      "Requirement already satisfied: pywin32>=300 in c:\\users\\admin\\desktop\\developer files\\iot-data-simulation\\env\\lib\\site-packages (from jupyter-core!=5.0.*,>=4.12->nbformat) (310)\n",
      "Note: you may need to restart the kernel to use updated packages.\n"
     ]
    }
   ],
   "source": [
    "pip install --upgrade nbformat"
   ]
  },
  {
   "cell_type": "code",
   "execution_count": 39,
   "id": "5c68aa99",
   "metadata": {},
   "outputs": [
    {
     "name": "stdout",
     "output_type": "stream",
     "text": [
      "Requirement already satisfied: nbformat in c:\\users\\admin\\desktop\\developer files\\iot-data-simulation\\env\\lib\\site-packages (5.10.4)\n",
      "Requirement already satisfied: ipython in c:\\users\\admin\\desktop\\developer files\\iot-data-simulation\\env\\lib\\site-packages (9.2.0)\n",
      "Requirement already satisfied: fastjsonschema>=2.15 in c:\\users\\admin\\desktop\\developer files\\iot-data-simulation\\env\\lib\\site-packages (from nbformat) (2.21.1)\n",
      "Requirement already satisfied: jsonschema>=2.6 in c:\\users\\admin\\desktop\\developer files\\iot-data-simulation\\env\\lib\\site-packages (from nbformat) (4.23.0)\n",
      "Requirement already satisfied: jupyter-core!=5.0.*,>=4.12 in c:\\users\\admin\\desktop\\developer files\\iot-data-simulation\\env\\lib\\site-packages (from nbformat) (5.7.2)\n",
      "Requirement already satisfied: traitlets>=5.1 in c:\\users\\admin\\desktop\\developer files\\iot-data-simulation\\env\\lib\\site-packages (from nbformat) (5.14.3)\n",
      "Requirement already satisfied: colorama in c:\\users\\admin\\desktop\\developer files\\iot-data-simulation\\env\\lib\\site-packages (from ipython) (0.4.6)\n",
      "Requirement already satisfied: decorator in c:\\users\\admin\\desktop\\developer files\\iot-data-simulation\\env\\lib\\site-packages (from ipython) (5.2.1)\n",
      "Requirement already satisfied: ipython-pygments-lexers in c:\\users\\admin\\desktop\\developer files\\iot-data-simulation\\env\\lib\\site-packages (from ipython) (1.1.1)\n",
      "Requirement already satisfied: jedi>=0.16 in c:\\users\\admin\\desktop\\developer files\\iot-data-simulation\\env\\lib\\site-packages (from ipython) (0.19.2)\n",
      "Requirement already satisfied: matplotlib-inline in c:\\users\\admin\\desktop\\developer files\\iot-data-simulation\\env\\lib\\site-packages (from ipython) (0.1.7)\n",
      "Requirement already satisfied: prompt_toolkit<3.1.0,>=3.0.41 in c:\\users\\admin\\desktop\\developer files\\iot-data-simulation\\env\\lib\\site-packages (from ipython) (3.0.51)\n",
      "Requirement already satisfied: pygments>=2.4.0 in c:\\users\\admin\\desktop\\developer files\\iot-data-simulation\\env\\lib\\site-packages (from ipython) (2.19.1)\n",
      "Requirement already satisfied: stack_data in c:\\users\\admin\\desktop\\developer files\\iot-data-simulation\\env\\lib\\site-packages (from ipython) (0.6.3)\n",
      "Requirement already satisfied: wcwidth in c:\\users\\admin\\desktop\\developer files\\iot-data-simulation\\env\\lib\\site-packages (from prompt_toolkit<3.1.0,>=3.0.41->ipython) (0.2.13)\n",
      "Requirement already satisfied: parso<0.9.0,>=0.8.4 in c:\\users\\admin\\desktop\\developer files\\iot-data-simulation\\env\\lib\\site-packages (from jedi>=0.16->ipython) (0.8.4)\n",
      "Requirement already satisfied: attrs>=22.2.0 in c:\\users\\admin\\desktop\\developer files\\iot-data-simulation\\env\\lib\\site-packages (from jsonschema>=2.6->nbformat) (25.3.0)\n",
      "Requirement already satisfied: jsonschema-specifications>=2023.03.6 in c:\\users\\admin\\desktop\\developer files\\iot-data-simulation\\env\\lib\\site-packages (from jsonschema>=2.6->nbformat) (2025.4.1)\n",
      "Requirement already satisfied: referencing>=0.28.4 in c:\\users\\admin\\desktop\\developer files\\iot-data-simulation\\env\\lib\\site-packages (from jsonschema>=2.6->nbformat) (0.36.2)\n",
      "Requirement already satisfied: rpds-py>=0.7.1 in c:\\users\\admin\\desktop\\developer files\\iot-data-simulation\\env\\lib\\site-packages (from jsonschema>=2.6->nbformat) (0.24.0)\n",
      "Requirement already satisfied: platformdirs>=2.5 in c:\\users\\admin\\desktop\\developer files\\iot-data-simulation\\env\\lib\\site-packages (from jupyter-core!=5.0.*,>=4.12->nbformat) (4.3.8)\n",
      "Requirement already satisfied: pywin32>=300 in c:\\users\\admin\\desktop\\developer files\\iot-data-simulation\\env\\lib\\site-packages (from jupyter-core!=5.0.*,>=4.12->nbformat) (310)\n",
      "Requirement already satisfied: executing>=1.2.0 in c:\\users\\admin\\desktop\\developer files\\iot-data-simulation\\env\\lib\\site-packages (from stack_data->ipython) (2.2.0)\n",
      "Requirement already satisfied: asttokens>=2.1.0 in c:\\users\\admin\\desktop\\developer files\\iot-data-simulation\\env\\lib\\site-packages (from stack_data->ipython) (3.0.0)\n",
      "Requirement already satisfied: pure-eval in c:\\users\\admin\\desktop\\developer files\\iot-data-simulation\\env\\lib\\site-packages (from stack_data->ipython) (0.2.3)\n"
     ]
    }
   ],
   "source": [
    "!pip install --upgrade nbformat ipython"
   ]
  },
  {
   "cell_type": "code",
   "execution_count": 41,
   "id": "05daaf55",
   "metadata": {},
   "outputs": [],
   "source": [
    "import plotly.io as pio\n",
    "pio.renderers.default = \"browser\"  # Opens plots in browser window\n",
    "\n",
    "# Then run your visualization code again\n",
    "fig = px.line(time_series_data, x=\"Timestamp\", y=\"Temperature (°C)\", color=\"SensorID\",\n",
    "             title=\"Temperature Readings Over Time\")\n",
    "fig.show()"
   ]
  },
  {
   "cell_type": "code",
   "execution_count": 42,
   "id": "24bcaee8",
   "metadata": {},
   "outputs": [],
   "source": [
    "# Create a scatter plot for Temperature vs Humidity\n",
    "fig = px.scatter(iot_data, x=\"Temperature (°C)\", y=\"Humidity (%)\", \n",
    "                color=\"Air Quality Index (AQI)\", hover_name=\"SensorID\",\n",
    "                title=\"Temperature vs Humidity with Air Quality\")\n",
    "fig.show()"
   ]
  },
  {
   "cell_type": "markdown",
   "id": "64059d4a",
   "metadata": {},
   "source": [
    "## Step 7: Advanced Data Generation (Optional)\n",
    "\n",
    "Let's create a more advanced function that can generate data over time intervals."
   ]
  },
  {
   "cell_type": "code",
   "execution_count": 43,
   "id": "3735c4ed",
   "metadata": {},
   "outputs": [],
   "source": [
    "import datetime\n",
    "\n",
    "def generate_time_series_data(num_sensors=3, hours=24, interval_minutes=60):\n",
    "    \"\"\"\n",
    "    Generate time series data for multiple sensors over a specified period.\n",
    "    \n",
    "    Parameters:\n",
    "        num_sensors (int): Number of sensors to simulate\n",
    "        hours (int): Number of hours to simulate\n",
    "        interval_minutes (int): Time interval between readings in minutes\n",
    "        \n",
    "    Returns:\n",
    "        pd.DataFrame: Time series data for environmental monitoring\n",
    "    \"\"\"\n",
    "    data = []\n",
    "    # Start time is 24 hours ago from now\n",
    "    start_time = datetime.datetime.now() - datetime.timedelta(hours=hours)\n",
    "    \n",
    "    # Calculate number of readings based on hours and interval\n",
    "    num_readings = int((hours * 60) / interval_minutes)\n",
    "    \n",
    "    for sensor_num in range(1, num_sensors + 1):\n",
    "        sensor_id = f\"Sensor{sensor_num}\"\n",
    "        \n",
    "        # Base values for this sensor (each sensor has slightly different characteristics)\n",
    "        base_temp = random.uniform(22.0, 28.0)\n",
    "        base_humidity = random.randint(45, 65)\n",
    "        base_aqi = random.randint(80, 150)\n",
    "        \n",
    "        for i in range(num_readings):\n",
    "            # Calculate timestamp for this reading\n",
    "            timestamp = start_time + datetime.timedelta(minutes=i * interval_minutes)\n",
    "            \n",
    "            # Add some random variation to the base values\n",
    "            # Temperature follows a daily cycle\n",
    "            hour_factor = abs(12 - timestamp.hour) / 12  # 0 at noon, 1 at midnight\n",
    "            temperature = round(base_temp - (3 * hour_factor) + random.uniform(-1.0, 1.0), 2)\n",
    "            \n",
    "            # Humidity inversely related to temperature, with some randomness\n",
    "            humidity = min(95, max(30, base_humidity + int(hour_factor * 15) + random.randint(-5, 5)))\n",
    "            \n",
    "            # AQI tends to be worse during rush hours (8am and 5pm)\n",
    "            rush_hour_factor = 0\n",
    "            if timestamp.hour in [8, 17]:\n",
    "                rush_hour_factor = 30\n",
    "            air_quality = min(300, max(50, base_aqi + rush_hour_factor + random.randint(-15, 15)))\n",
    "            \n",
    "            data.append([sensor_id, temperature, humidity, air_quality, timestamp.strftime(\"%Y-%m-%d %H:%M:%S\")])\n",
    "    \n",
    "    return pd.DataFrame(data, columns=[\"SensorID\", \"Temperature (°C)\", \"Humidity (%)\", \"Air Quality Index (AQI)\", \"Timestamp\"])"
   ]
  },
  {
   "cell_type": "code",
   "execution_count": 35,
   "id": "a9cc1b47",
   "metadata": {},
   "outputs": [
    {
     "data": {
      "text/html": [
       "<div>\n",
       "<style scoped>\n",
       "    .dataframe tbody tr th:only-of-type {\n",
       "        vertical-align: middle;\n",
       "    }\n",
       "\n",
       "    .dataframe tbody tr th {\n",
       "        vertical-align: top;\n",
       "    }\n",
       "\n",
       "    .dataframe thead th {\n",
       "        text-align: right;\n",
       "    }\n",
       "</style>\n",
       "<table border=\"1\" class=\"dataframe\">\n",
       "  <thead>\n",
       "    <tr style=\"text-align: right;\">\n",
       "      <th></th>\n",
       "      <th>SensorID</th>\n",
       "      <th>Temperature (°C)</th>\n",
       "      <th>Humidity (%)</th>\n",
       "      <th>Air Quality Index (AQI)</th>\n",
       "      <th>Timestamp</th>\n",
       "    </tr>\n",
       "  </thead>\n",
       "  <tbody>\n",
       "    <tr>\n",
       "      <th>0</th>\n",
       "      <td>Sensor1</td>\n",
       "      <td>24.96</td>\n",
       "      <td>67</td>\n",
       "      <td>91</td>\n",
       "      <td>2025-05-08 09:06:13</td>\n",
       "    </tr>\n",
       "    <tr>\n",
       "      <th>1</th>\n",
       "      <td>Sensor1</td>\n",
       "      <td>23.47</td>\n",
       "      <td>72</td>\n",
       "      <td>88</td>\n",
       "      <td>2025-05-08 09:36:13</td>\n",
       "    </tr>\n",
       "    <tr>\n",
       "      <th>2</th>\n",
       "      <td>Sensor1</td>\n",
       "      <td>25.60</td>\n",
       "      <td>71</td>\n",
       "      <td>93</td>\n",
       "      <td>2025-05-08 10:06:13</td>\n",
       "    </tr>\n",
       "    <tr>\n",
       "      <th>3</th>\n",
       "      <td>Sensor1</td>\n",
       "      <td>24.99</td>\n",
       "      <td>72</td>\n",
       "      <td>87</td>\n",
       "      <td>2025-05-08 10:36:13</td>\n",
       "    </tr>\n",
       "    <tr>\n",
       "      <th>4</th>\n",
       "      <td>Sensor1</td>\n",
       "      <td>24.40</td>\n",
       "      <td>65</td>\n",
       "      <td>72</td>\n",
       "      <td>2025-05-08 11:06:13</td>\n",
       "    </tr>\n",
       "  </tbody>\n",
       "</table>\n",
       "</div>"
      ],
      "text/plain": [
       "  SensorID  Temperature (°C)  Humidity (%)  Air Quality Index (AQI)  \\\n",
       "0  Sensor1             24.96            67                       91   \n",
       "1  Sensor1             23.47            72                       88   \n",
       "2  Sensor1             25.60            71                       93   \n",
       "3  Sensor1             24.99            72                       87   \n",
       "4  Sensor1             24.40            65                       72   \n",
       "\n",
       "             Timestamp  \n",
       "0  2025-05-08 09:06:13  \n",
       "1  2025-05-08 09:36:13  \n",
       "2  2025-05-08 10:06:13  \n",
       "3  2025-05-08 10:36:13  \n",
       "4  2025-05-08 11:06:13  "
      ]
     },
     "execution_count": 35,
     "metadata": {},
     "output_type": "execute_result"
    }
   ],
   "source": [
    "# Generate time series data for 3 sensors over 24 hours with readings every 30 minutes\n",
    "time_series_data = generate_time_series_data(num_sensors=3, hours=24, interval_minutes=30)\n",
    "\n",
    "# Display the first few rows\n",
    "time_series_data.head()"
   ]
  },
  {
   "cell_type": "code",
   "execution_count": 44,
   "id": "2321697a",
   "metadata": {},
   "outputs": [
    {
     "name": "stdout",
     "output_type": "stream",
     "text": [
      "Time series IoT data saved successfully as 'iot_time_series_data.csv'\n"
     ]
    }
   ],
   "source": [
    "# Save the time series data to CSV\n",
    "time_series_data.to_csv(\"iot_time_series_data.csv\", index=False)\n",
    "print(\"Time series IoT data saved successfully as 'iot_time_series_data.csv'\")"
   ]
  },
  {
   "cell_type": "markdown",
   "id": "f8e6b825",
   "metadata": {},
   "source": [
    "## Step 8: Visualize Time Series Data (Optional)\n",
    "\n",
    "Let's create some time series visualizations."
   ]
  },
  {
   "cell_type": "code",
   "execution_count": 45,
   "id": "76026c55",
   "metadata": {},
   "outputs": [],
   "source": [
    "# Convert timestamp to datetime for better plotting\n",
    "time_series_data['Timestamp'] = pd.to_datetime(time_series_data['Timestamp'])\n",
    "\n",
    "# Create a line plot for temperature over time\n",
    "fig = px.line(time_series_data, x=\"Timestamp\", y=\"Temperature (°C)\", color=\"SensorID\",\n",
    "             title=\"Temperature Readings Over Time\")\n",
    "fig.show()"
   ]
  },
  {
   "cell_type": "markdown",
   "id": "484bf51b",
   "metadata": {},
   "source": [
    "## Conclusion\n",
    "\n",
    "In this notebook, we've demonstrated how to:\n",
    "\n",
    "1. Generate simulated IoT environmental monitoring data\n",
    "2. Create both static and time-series datasets\n",
    "3. Visualize the data in multiple ways\n",
    "4. Save the data to CSV files for further analysis or sharing\n",
    "\n",
    "This simulated data can be used for testing data processing pipelines, building dashboards, or exploring data analysis techniques before working with actual IoT sensor data."
   ]
  }
 ],
 "metadata": {
  "kernelspec": {
   "display_name": "env",
   "language": "python",
   "name": "python3"
  },
  "language_info": {
   "codemirror_mode": {
    "name": "ipython",
    "version": 3
   },
   "file_extension": ".py",
   "mimetype": "text/x-python",
   "name": "python",
   "nbconvert_exporter": "python",
   "pygments_lexer": "ipython3",
   "version": "3.13.1"
  }
 },
 "nbformat": 4,
 "nbformat_minor": 5
}
