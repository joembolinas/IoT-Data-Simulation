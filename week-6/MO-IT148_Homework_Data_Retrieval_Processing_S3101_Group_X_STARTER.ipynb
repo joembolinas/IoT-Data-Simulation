{
 "cells": [
  {
   "cell_type": "markdown",
   "id": "9f1903a1",
   "metadata": {},
   "source": [
    "# MO-IT148 Homework: Data Retrieval and Processing\n",
    "\n",
    "**Course:** MO-IT148 - Applications Development and Emerging Technologies  \n",
    "**Week:** 6  \n",
    "**Section:** S3101  \n",
    "**Group:** Group X  \n",
    "**Date:** June 14, 2025  \n",
    "\n",
    "---\n",
    "\n",
    "## 🎯 **Assignment Objective**\n",
    "\n",
    "This homework demonstrates how to retrieve IoT sensor data from a blockchain (built in Milestone 1), clean and structure it for analysis, and prepare it for real-world applications.\n",
    "\n",
    "### **Key Skills Demonstrated:**\n",
    "- Blockchain data retrieval using Web3.py\n",
    "- Data cleaning and preprocessing with Pandas\n",
    "- Statistical analysis with NumPy\n",
    "- Data visualization with Matplotlib/Seaborn\n",
    "- Production-ready dataset export\n",
    "\n",
    "### **Business Context:**\n",
    "These skills are essential for:\n",
    "- **Data Analysts** in blockchain companies\n",
    "- **IoT Engineers** in logistics and supply chain\n",
    "- **Blockchain Developers** requiring data processing expertise\n",
    "- **Business Intelligence** analysts in tech companies\n",
    "\n",
    "---"
   ]
  },
  {
   "cell_type": "markdown",
   "id": "5f6a1500",
   "metadata": {},
   "source": [
    "## 🚀 **Step 1: Environment Setup and Blockchain Connection**\n",
    "\n",
    "First, we'll establish connection to our Ganache blockchain and load the smart contract from Milestone 1."
   ]
  },
  {
   "cell_type": "code",
   "execution_count": null,
   "id": "ffb80b17",
   "metadata": {},
   "outputs": [],
   "source": []
  },
  {
   "cell_type": "code",
   "execution_count": 9,
   "id": "a1733ebc",
   "metadata": {},
   "outputs": [
    {
     "name": "stdout",
     "output_type": "stream",
     "text": [
      "Requirement already satisfied: matplotlib in c:\\users\\admin\\desktop\\developerfiles\\iot-data-simulation\\env\\lib\\site-packages (3.10.3)\n",
      "Requirement already satisfied: seaborn in c:\\users\\admin\\desktop\\developerfiles\\iot-data-simulation\\env\\lib\\site-packages (0.13.2)\n",
      "Requirement already satisfied: web3 in c:\\users\\admin\\desktop\\developerfiles\\iot-data-simulation\\env\\lib\\site-packages (7.11.1)\n",
      "Requirement already satisfied: contourpy>=1.0.1 in c:\\users\\admin\\desktop\\developerfiles\\iot-data-simulation\\env\\lib\\site-packages (from matplotlib) (1.3.2)\n",
      "Requirement already satisfied: cycler>=0.10 in c:\\users\\admin\\desktop\\developerfiles\\iot-data-simulation\\env\\lib\\site-packages (from matplotlib) (0.12.1)\n",
      "Requirement already satisfied: fonttools>=4.22.0 in c:\\users\\admin\\desktop\\developerfiles\\iot-data-simulation\\env\\lib\\site-packages (from matplotlib) (4.58.4)\n",
      "Requirement already satisfied: kiwisolver>=1.3.1 in c:\\users\\admin\\desktop\\developerfiles\\iot-data-simulation\\env\\lib\\site-packages (from matplotlib) (1.4.8)\n",
      "Requirement already satisfied: numpy>=1.23 in c:\\users\\admin\\desktop\\developerfiles\\iot-data-simulation\\env\\lib\\site-packages (from matplotlib) (2.2.5)\n",
      "Requirement already satisfied: packaging>=20.0 in c:\\users\\admin\\desktop\\developerfiles\\iot-data-simulation\\env\\lib\\site-packages (from matplotlib) (25.0)\n",
      "Requirement already satisfied: pillow>=8 in c:\\users\\admin\\desktop\\developerfiles\\iot-data-simulation\\env\\lib\\site-packages (from matplotlib) (11.2.1)\n",
      "Requirement already satisfied: pyparsing>=2.3.1 in c:\\users\\admin\\desktop\\developerfiles\\iot-data-simulation\\env\\lib\\site-packages (from matplotlib) (3.2.3)\n",
      "Requirement already satisfied: python-dateutil>=2.7 in c:\\users\\admin\\desktop\\developerfiles\\iot-data-simulation\\env\\lib\\site-packages (from matplotlib) (2.9.0.post0)\n",
      "Requirement already satisfied: pandas>=1.2 in c:\\users\\admin\\desktop\\developerfiles\\iot-data-simulation\\env\\lib\\site-packages (from seaborn) (2.2.3)\n",
      "Requirement already satisfied: eth-abi>=5.0.1 in c:\\users\\admin\\desktop\\developerfiles\\iot-data-simulation\\env\\lib\\site-packages (from web3) (5.2.0)\n",
      "Requirement already satisfied: eth-account>=0.13.6 in c:\\users\\admin\\desktop\\developerfiles\\iot-data-simulation\\env\\lib\\site-packages (from web3) (0.13.7)\n",
      "Requirement already satisfied: eth-hash>=0.5.1 in c:\\users\\admin\\desktop\\developerfiles\\iot-data-simulation\\env\\lib\\site-packages (from eth-hash[pycryptodome]>=0.5.1->web3) (0.7.1)\n",
      "Requirement already satisfied: eth-typing>=5.0.0 in c:\\users\\admin\\desktop\\developerfiles\\iot-data-simulation\\env\\lib\\site-packages (from web3) (5.2.1)\n",
      "Requirement already satisfied: eth-utils>=5.0.0 in c:\\users\\admin\\desktop\\developerfiles\\iot-data-simulation\\env\\lib\\site-packages (from web3) (5.3.0)\n",
      "Requirement already satisfied: hexbytes>=1.2.0 in c:\\users\\admin\\desktop\\developerfiles\\iot-data-simulation\\env\\lib\\site-packages (from web3) (1.3.1)\n",
      "Requirement already satisfied: aiohttp>=3.7.4.post0 in c:\\users\\admin\\desktop\\developerfiles\\iot-data-simulation\\env\\lib\\site-packages (from web3) (3.11.18)\n",
      "Requirement already satisfied: pydantic>=2.4.0 in c:\\users\\admin\\desktop\\developerfiles\\iot-data-simulation\\env\\lib\\site-packages (from web3) (2.11.4)\n",
      "Requirement already satisfied: requests>=2.23.0 in c:\\users\\admin\\desktop\\developerfiles\\iot-data-simulation\\env\\lib\\site-packages (from web3) (2.32.3)\n",
      "Requirement already satisfied: typing-extensions>=4.0.1 in c:\\users\\admin\\desktop\\developerfiles\\iot-data-simulation\\env\\lib\\site-packages (from web3) (4.13.2)\n",
      "Requirement already satisfied: types-requests>=2.0.0 in c:\\users\\admin\\desktop\\developerfiles\\iot-data-simulation\\env\\lib\\site-packages (from web3) (2.32.0.20250515)\n",
      "Requirement already satisfied: websockets<16.0.0,>=10.0.0 in c:\\users\\admin\\desktop\\developerfiles\\iot-data-simulation\\env\\lib\\site-packages (from web3) (15.0.1)\n",
      "Requirement already satisfied: pyunormalize>=15.0.0 in c:\\users\\admin\\desktop\\developerfiles\\iot-data-simulation\\env\\lib\\site-packages (from web3) (16.0.0)\n",
      "Requirement already satisfied: pywin32>=223 in c:\\users\\admin\\desktop\\developerfiles\\iot-data-simulation\\env\\lib\\site-packages (from web3) (310)\n",
      "Requirement already satisfied: aiohappyeyeballs>=2.3.0 in c:\\users\\admin\\desktop\\developerfiles\\iot-data-simulation\\env\\lib\\site-packages (from aiohttp>=3.7.4.post0->web3) (2.6.1)\n",
      "Requirement already satisfied: aiosignal>=1.1.2 in c:\\users\\admin\\desktop\\developerfiles\\iot-data-simulation\\env\\lib\\site-packages (from aiohttp>=3.7.4.post0->web3) (1.3.2)\n",
      "Requirement already satisfied: attrs>=17.3.0 in c:\\users\\admin\\desktop\\developerfiles\\iot-data-simulation\\env\\lib\\site-packages (from aiohttp>=3.7.4.post0->web3) (25.3.0)\n",
      "Requirement already satisfied: frozenlist>=1.1.1 in c:\\users\\admin\\desktop\\developerfiles\\iot-data-simulation\\env\\lib\\site-packages (from aiohttp>=3.7.4.post0->web3) (1.6.0)\n",
      "Requirement already satisfied: multidict<7.0,>=4.5 in c:\\users\\admin\\desktop\\developerfiles\\iot-data-simulation\\env\\lib\\site-packages (from aiohttp>=3.7.4.post0->web3) (6.4.4)\n",
      "Requirement already satisfied: propcache>=0.2.0 in c:\\users\\admin\\desktop\\developerfiles\\iot-data-simulation\\env\\lib\\site-packages (from aiohttp>=3.7.4.post0->web3) (0.3.1)\n",
      "Requirement already satisfied: yarl<2.0,>=1.17.0 in c:\\users\\admin\\desktop\\developerfiles\\iot-data-simulation\\env\\lib\\site-packages (from aiohttp>=3.7.4.post0->web3) (1.20.0)\n",
      "Requirement already satisfied: idna>=2.0 in c:\\users\\admin\\desktop\\developerfiles\\iot-data-simulation\\env\\lib\\site-packages (from yarl<2.0,>=1.17.0->aiohttp>=3.7.4.post0->web3) (3.10)\n",
      "Requirement already satisfied: parsimonious<0.11.0,>=0.10.0 in c:\\users\\admin\\desktop\\developerfiles\\iot-data-simulation\\env\\lib\\site-packages (from eth-abi>=5.0.1->web3) (0.10.0)\n",
      "Requirement already satisfied: regex>=2022.3.15 in c:\\users\\admin\\desktop\\developerfiles\\iot-data-simulation\\env\\lib\\site-packages (from parsimonious<0.11.0,>=0.10.0->eth-abi>=5.0.1->web3) (2024.11.6)\n",
      "Requirement already satisfied: bitarray>=2.4.0 in c:\\users\\admin\\desktop\\developerfiles\\iot-data-simulation\\env\\lib\\site-packages (from eth-account>=0.13.6->web3) (3.4.2)\n",
      "Requirement already satisfied: eth-keyfile<0.9.0,>=0.7.0 in c:\\users\\admin\\desktop\\developerfiles\\iot-data-simulation\\env\\lib\\site-packages (from eth-account>=0.13.6->web3) (0.8.1)\n",
      "Requirement already satisfied: eth-keys>=0.4.0 in c:\\users\\admin\\desktop\\developerfiles\\iot-data-simulation\\env\\lib\\site-packages (from eth-account>=0.13.6->web3) (0.7.0)\n",
      "Requirement already satisfied: eth-rlp>=2.1.0 in c:\\users\\admin\\desktop\\developerfiles\\iot-data-simulation\\env\\lib\\site-packages (from eth-account>=0.13.6->web3) (2.2.0)\n",
      "Requirement already satisfied: rlp>=1.0.0 in c:\\users\\admin\\desktop\\developerfiles\\iot-data-simulation\\env\\lib\\site-packages (from eth-account>=0.13.6->web3) (4.1.0)\n",
      "Requirement already satisfied: ckzg>=2.0.0 in c:\\users\\admin\\desktop\\developerfiles\\iot-data-simulation\\env\\lib\\site-packages (from eth-account>=0.13.6->web3) (2.1.1)\n",
      "Requirement already satisfied: pycryptodome<4,>=3.6.6 in c:\\users\\admin\\desktop\\developerfiles\\iot-data-simulation\\env\\lib\\site-packages (from eth-keyfile<0.9.0,>=0.7.0->eth-account>=0.13.6->web3) (3.23.0)\n",
      "Requirement already satisfied: cytoolz>=0.10.1 in c:\\users\\admin\\desktop\\developerfiles\\iot-data-simulation\\env\\lib\\site-packages (from eth-utils>=5.0.0->web3) (1.0.1)\n",
      "Requirement already satisfied: annotated-types>=0.6.0 in c:\\users\\admin\\desktop\\developerfiles\\iot-data-simulation\\env\\lib\\site-packages (from pydantic>=2.4.0->web3) (0.7.0)\n",
      "Requirement already satisfied: pydantic-core==2.33.2 in c:\\users\\admin\\desktop\\developerfiles\\iot-data-simulation\\env\\lib\\site-packages (from pydantic>=2.4.0->web3) (2.33.2)\n",
      "Requirement already satisfied: typing-inspection>=0.4.0 in c:\\users\\admin\\desktop\\developerfiles\\iot-data-simulation\\env\\lib\\site-packages (from pydantic>=2.4.0->web3) (0.4.1)\n",
      "Requirement already satisfied: toolz>=0.8.0 in c:\\users\\admin\\desktop\\developerfiles\\iot-data-simulation\\env\\lib\\site-packages (from cytoolz>=0.10.1->eth-utils>=5.0.0->web3) (1.0.0)\n",
      "Requirement already satisfied: pytz>=2020.1 in c:\\users\\admin\\desktop\\developerfiles\\iot-data-simulation\\env\\lib\\site-packages (from pandas>=1.2->seaborn) (2025.2)\n",
      "Requirement already satisfied: tzdata>=2022.7 in c:\\users\\admin\\desktop\\developerfiles\\iot-data-simulation\\env\\lib\\site-packages (from pandas>=1.2->seaborn) (2025.2)\n",
      "Requirement already satisfied: six>=1.5 in c:\\users\\admin\\desktop\\developerfiles\\iot-data-simulation\\env\\lib\\site-packages (from python-dateutil>=2.7->matplotlib) (1.17.0)\n",
      "Requirement already satisfied: charset-normalizer<4,>=2 in c:\\users\\admin\\desktop\\developerfiles\\iot-data-simulation\\env\\lib\\site-packages (from requests>=2.23.0->web3) (3.4.2)\n",
      "Requirement already satisfied: urllib3<3,>=1.21.1 in c:\\users\\admin\\desktop\\developerfiles\\iot-data-simulation\\env\\lib\\site-packages (from requests>=2.23.0->web3) (2.4.0)\n",
      "Requirement already satisfied: certifi>=2017.4.17 in c:\\users\\admin\\desktop\\developerfiles\\iot-data-simulation\\env\\lib\\site-packages (from requests>=2.23.0->web3) (2025.4.26)\n",
      "Note: you may need to restart the kernel to use updated packages.\n",
      "📦 All required libraries imported successfully!\n",
      "🎨 Visualization settings configured\n"
     ]
    }
   ],
   "source": [
    "%pip install matplotlib seaborn web3\n",
    "\n",
    "# Import required libraries for blockchain interaction and data processing\n",
    "from web3 import Web3\n",
    "import pandas as pd\n",
    "import numpy as np\n",
    "import json\n",
    "from datetime import datetime\n",
    "import matplotlib.pyplot as plt\n",
    "import seaborn as sns\n",
    "import warnings\n",
    "warnings.filterwarnings('ignore')\n",
    "\n",
    "# Set up visualization style\n",
    "plt.style.use('default')\n",
    "sns.set_palette(\"husl\")\n",
    "\n",
    "print(\"📦 All required libraries imported successfully!\")\n",
    "print(\"🎨 Visualization settings configured\")"
   ]
  },
  {
   "cell_type": "code",
   "execution_count": 10,
   "id": "5212cb84",
   "metadata": {},
   "outputs": [
    {
     "name": "stdout",
     "output_type": "stream",
     "text": [
      "🔗 Blockchain Connection Status:\n",
      "   Connected: True\n",
      "   📊 Current block number: 112\n",
      "   🆔 Chain ID: 1337\n",
      "   👥 Available accounts: 10\n",
      "   ✅ Ready to proceed with data retrieval!\n"
     ]
    }
   ],
   "source": [
    "# Connect to Ganache blockchain (from Milestone 1)\n",
    "ganache_url = \"http://127.0.0.1:7545\"  # Default Ganache URL\n",
    "web3 = Web3(Web3.HTTPProvider(ganache_url))\n",
    "\n",
    "# Verify blockchain connection\n",
    "print(\"🔗 Blockchain Connection Status:\")\n",
    "print(f\"   Connected: {web3.is_connected()}\")\n",
    "\n",
    "if web3.is_connected():\n",
    "    print(f\"   📊 Current block number: {web3.eth.block_number}\")\n",
    "    print(f\"   🆔 Chain ID: {web3.eth.chain_id}\")\n",
    "    print(f\"   👥 Available accounts: {len(web3.eth.accounts)}\")\n",
    "    print(\"   ✅ Ready to proceed with data retrieval!\")\n",
    "else:\n",
    "    print(\"   ❌ Connection failed! Please ensure Ganache is running.\")\n",
    "    print(\"   💡 Troubleshooting tips:\")\n",
    "    print(\"      - Check if Ganache application is open\")\n",
    "    print(\"      - Verify the port number (7545 vs 8545)\")\n",
    "    print(\"      - Restart Ganache if necessary\")"
   ]
  },
  {
   "cell_type": "code",
   "execution_count": 11,
   "id": "f43263f1",
   "metadata": {},
   "outputs": [
    {
     "name": "stdout",
     "output_type": "stream",
     "text": [
      "📝 Smart Contract Loaded Successfully!\n",
      "   📍 Contract Address: 0xB3B75FA814041f3176d4812324CD47A0C50F31A6\n",
      "   🔧 Contract Functions Available: 2 functions\n",
      "   ✅ Ready for data retrieval operations\n"
     ]
    }
   ],
   "source": [
    "# Load Smart Contract from Milestone 1\n",
    "# TODO: Update these values with your actual contract details from Milestone 1\n",
    "\n",
    "# Your contract address from Milestone 1 deployment\n",
    "contract_address = \"0xB3B75FA814041f3176d4812324CD47A0C50F31A6\"  # ⚠️ UPDATE THIS\n",
    "\n",
    "# Contract ABI (Application Binary Interface) - Update with your contract ABI\n",
    "contract_abi = [\n",
    "    {\n",
    "        \"inputs\": [],\n",
    "        \"name\": \"getTotalRecords\",\n",
    "        \"outputs\": [{\"internalType\": \"uint256\", \"name\": \"\", \"type\": \"uint256\"}],\n",
    "        \"stateMutability\": \"view\",\n",
    "        \"type\": \"function\"\n",
    "    },\n",
    "    {\n",
    "        \"inputs\": [{\"internalType\": \"uint256\", \"name\": \"recordId\", \"type\": \"uint256\"}],\n",
    "        \"name\": \"getLogisticsData\",\n",
    "        \"outputs\": [\n",
    "            {\"internalType\": \"uint256\", \"name\": \"blockchainTimestamp\", \"type\": \"uint256\"},\n",
    "            {\"internalType\": \"string\", \"name\": \"originalTimestamp\", \"type\": \"string\"},\n",
    "            {\"internalType\": \"string\", \"name\": \"packageId\", \"type\": \"string\"},\n",
    "            {\"internalType\": \"string\", \"name\": \"rfidTag\", \"type\": \"string\"},\n",
    "            {\"internalType\": \"string\", \"name\": \"latitude\", \"type\": \"string\"},\n",
    "            {\"internalType\": \"string\", \"name\": \"longitude\", \"type\": \"string\"},\n",
    "            {\"internalType\": \"string\", \"name\": \"temperatureC\", \"type\": \"string\"},\n",
    "            {\"internalType\": \"string\", \"name\": \"deviceId\", \"type\": \"string\"}\n",
    "        ],\n",
    "        \"stateMutability\": \"view\",\n",
    "        \"type\": \"function\"\n",
    "    }\n",
    "]\n",
    "\n",
    "# Create contract instance\n",
    "try:\n",
    "    contract = web3.eth.contract(address=contract_address, abi=contract_abi)\n",
    "    print(\"📝 Smart Contract Loaded Successfully!\")\n",
    "    print(f\"   📍 Contract Address: {contract_address}\")\n",
    "    print(f\"   🔧 Contract Functions Available: {len(contract_abi)} functions\")\n",
    "    print(\"   ✅ Ready for data retrieval operations\")\n",
    "except Exception as e:\n",
    "    print(f\"❌ Error loading contract: {str(e)}\")\n",
    "    print(\"💡 Please verify:\")\n",
    "    print(\"   - Contract address is correct\")\n",
    "    print(\"   - ABI matches your deployed contract\")\n",
    "    print(\"   - Contract is actually deployed on this blockchain\")"
   ]
  },
  {
   "cell_type": "markdown",
   "id": "99811f60",
   "metadata": {},
   "source": [
    "## 📊 **Step 2: Get Total Number of Stored Records**\n",
    "\n",
    "Now we'll check how many IoT records are stored in our blockchain ledger from Milestone 1."
   ]
  },
  {
   "cell_type": "code",
   "execution_count": 12,
   "id": "8f2cdb00",
   "metadata": {},
   "outputs": [
    {
     "name": "stdout",
     "output_type": "stream",
     "text": [
      "❌ Error getting total records: Could not transact with/call contract function, is contract deployed correctly and chain synced?\n",
      "🔧 Troubleshooting suggestions:\n",
      "   - Verify contract function name (getTotalRecords vs totalRecords)\n",
      "   - Check if contract is properly deployed\n",
      "   - Ensure blockchain connection is stable\n"
     ]
    }
   ],
   "source": [
    "# Get the total number of stored records from blockchain\n",
    "try:\n",
    "    total_records = contract.functions.getTotalRecords().call()\n",
    "    print(f\"📈 Total IoT records stored on blockchain: {total_records}\")\n",
    "    \n",
    "    if total_records == 0:\n",
    "        print(\"⚠️ No records found in the blockchain!\")\n",
    "        print(\"💡 Possible reasons:\")\n",
    "        print(\"   - Milestone 1 data hasn't been stored yet\")\n",
    "        print(\"   - Wrong contract address\")\n",
    "        print(\"   - Contract deployment issue\")\n",
    "        print(\"\\n🔧 Next steps:\")\n",
    "        print(\"   1. Verify Milestone 1 completion\")\n",
    "        print(\"   2. Check contract address\")\n",
    "        print(\"   3. Re-run Milestone 1 data storage if needed\")\n",
    "    else:\n",
    "        print(f\"🎯 Excellent! Ready to retrieve {total_records} records\")\n",
    "        print(f\"📋 This represents {total_records} IoT sensor readings from your supply chain simulation\")\n",
    "        print(\"✅ Proceeding to data retrieval phase\")\n",
    "        \n",
    "except Exception as e:\n",
    "    print(f\"❌ Error getting total records: {str(e)}\")\n",
    "    print(\"🔧 Troubleshooting suggestions:\")\n",
    "    print(\"   - Verify contract function name (getTotalRecords vs totalRecords)\")\n",
    "    print(\"   - Check if contract is properly deployed\")\n",
    "    print(\"   - Ensure blockchain connection is stable\")"
   ]
  },
  {
   "cell_type": "markdown",
   "id": "c7427860",
   "metadata": {},
   "source": [
    "## 🔍 **Step 3: Retrieve All IoT Data from Blockchain**\n",
    "\n",
    "We'll now fetch all stored IoT records and organize them into a structured Pandas DataFrame for analysis."
   ]
  },
  {
   "cell_type": "code",
   "execution_count": 13,
   "id": "64da6baf",
   "metadata": {},
   "outputs": [
    {
     "name": "stdout",
     "output_type": "stream",
     "text": [
      "🔄 Starting data retrieval from blockchain...\n"
     ]
    },
    {
     "ename": "NameError",
     "evalue": "name 'total_records' is not defined",
     "output_type": "error",
     "traceback": [
      "\u001b[31m---------------------------------------------------------------------------\u001b[39m",
      "\u001b[31mNameError\u001b[39m                                 Traceback (most recent call last)",
      "\u001b[36mCell\u001b[39m\u001b[36m \u001b[39m\u001b[32mIn[13]\u001b[39m\u001b[32m, line 3\u001b[39m\n\u001b[32m      1\u001b[39m \u001b[38;5;66;03m# Retrieve all IoT records from the blockchain\u001b[39;00m\n\u001b[32m      2\u001b[39m \u001b[38;5;28mprint\u001b[39m(\u001b[33m\"\u001b[39m\u001b[33m🔄 Starting data retrieval from blockchain...\u001b[39m\u001b[33m\"\u001b[39m)\n\u001b[32m----> \u001b[39m\u001b[32m3\u001b[39m \u001b[38;5;28mprint\u001b[39m(\u001b[33mf\u001b[39m\u001b[33m\"\u001b[39m\u001b[33m📊 Retrieving \u001b[39m\u001b[38;5;132;01m{\u001b[39;00m\u001b[43mtotal_records\u001b[49m\u001b[38;5;132;01m}\u001b[39;00m\u001b[33m records...\u001b[39m\u001b[33m\"\u001b[39m)\n\u001b[32m      5\u001b[39m data = []\n\u001b[32m      6\u001b[39m successful_retrievals = \u001b[32m0\u001b[39m\n",
      "\u001b[31mNameError\u001b[39m: name 'total_records' is not defined"
     ]
    }
   ],
   "source": [
    "# Retrieve all IoT records from the blockchain\n",
    "print(\"🔄 Starting data retrieval from blockchain...\")\n",
    "print(f\"📊 Retrieving {total_records} records...\")\n",
    "\n",
    "data = []\n",
    "successful_retrievals = 0\n",
    "failed_retrievals = 0\n",
    "\n",
    "# Loop through all stored records\n",
    "for i in range(total_records):\n",
    "    try:\n",
    "        # Get record from smart contract (adjust function name if different)\n",
    "        record = contract.functions.getLogisticsData(i).call()\n",
    "        \n",
    "        # Structure the data according to your smart contract\n",
    "        # TODO: Adjust field mapping based on your contract structure\n",
    "        data.append({\n",
    "            \"record_id\": i,\n",
    "            \"blockchain_timestamp\": record[0],  # Unix timestamp when stored on blockchain\n",
    "            \"original_timestamp\": record[1],    # Original IoT sensor timestamp\n",
    "            \"package_id\": record[2],           # Package identifier\n",
    "            \"rfid_tag\": record[3],             # RFID tag number\n",
    "            \"latitude\": record[4],             # GPS latitude\n",
    "            \"longitude\": record[5],            # GPS longitude\n",
    "            \"temperature_celsius\": record[6],   # Temperature reading\n",
    "            \"device_id\": record[7]             # IoT device identifier\n",
    "        })\n",
    "        \n",
    "        successful_retrievals += 1\n",
    "        \n",
    "        # Progress indicator\n",
    "        if (i + 1) % max(1, total_records // 10) == 0:  # Show progress every 10%\n",
    "            progress = ((i + 1) / total_records) * 100\n",
    "            print(f\"   📈 Progress: {progress:.0f}% ({i + 1}/{total_records} records)\")\n",
    "        \n",
    "    except Exception as e:\n",
    "        failed_retrievals += 1\n",
    "        print(f\"   ❌ Error retrieving record {i}: {str(e)}\")\n",
    "\n",
    "# Create DataFrame from retrieved data\n",
    "df = pd.DataFrame(data)\n",
    "\n",
    "# Summary of retrieval operation\n",
    "print(\"\\n📋 Data Retrieval Summary:\")\n",
    "print(f\"   ✅ Successfully retrieved: {successful_retrievals} records\")\n",
    "print(f\"   ❌ Failed retrievals: {failed_retrievals} records\")\n",
    "print(f\"   📊 DataFrame shape: {df.shape} (rows × columns)\")\n",
    "print(f\"   🎯 Success rate: {(successful_retrievals / total_records * 100):.1f}%\")\n",
    "\n",
    "if len(df) > 0:\n",
    "    print(\"\\n🎉 Data retrieval completed successfully!\")\n",
    "    print(\"📋 Ready for data cleaning and analysis phase\")\n",
    "else:\n",
    "    print(\"\\n⚠️ No data retrieved! Please check contract and blockchain connection.\")"
   ]
  },
  {
   "cell_type": "code",
   "execution_count": null,
   "id": "23094a29",
   "metadata": {},
   "outputs": [],
   "source": [
    "# Convert timestamps and display initial data preview\n",
    "if len(df) > 0:\n",
    "    # Convert blockchain timestamp to readable datetime\n",
    "    df[\"blockchain_datetime\"] = pd.to_datetime(df[\"blockchain_timestamp\"], unit=\"s\")\n",
    "    \n",
    "    # Convert original timestamp to datetime\n",
    "    df[\"original_datetime\"] = pd.to_datetime(df[\"original_timestamp\"])\n",
    "    \n",
    "    print(\"🕐 Timestamp Conversion Completed\")\n",
    "    print(\"\\n📊 First 5 records from blockchain:\")\n",
    "    display(df.head())\n",
    "    \n",
    "    print(\"\\n📈 DataFrame Information:\")\n",
    "    print(df.info())\n",
    "    \n",
    "    print(\"\\n🏷️ Data Overview:\")\n",
    "    print(f\"   📦 Unique packages: {df['package_id'].nunique()}\")\n",
    "    print(f\"   📱 Unique devices: {df['device_id'].nunique()}\")\n",
    "    print(f\"   📅 Date range: {df['original_datetime'].min()} to {df['original_datetime'].max()}\")\n",
    "    print(f\"   🕐 Blockchain storage time span: {df['blockchain_datetime'].min()} to {df['blockchain_datetime'].max()}\")\n",
    "else:\n",
    "    print(\"❌ No data available for analysis. Please resolve retrieval issues first.\")"
   ]
  },
  {
   "cell_type": "markdown",
   "id": "c826e2d5",
   "metadata": {},
   "source": [
    "## 🧹 **Step 4: Data Cleaning and Preprocessing**\n",
    "\n",
    "Now we'll clean the retrieved data, handle missing values, and convert text fields to appropriate numerical formats."
   ]
  },
  {
   "cell_type": "code",
   "execution_count": null,
   "id": "cf6df5af",
   "metadata": {},
   "outputs": [],
   "source": [
    "# TODO: Continue with data cleaning implementation\n",
    "# This is where you'll implement:\n",
    "# 1. Missing value analysis\n",
    "# 2. Numerical conversion (temperature, GPS coordinates)\n",
    "# 3. Data validation and quality checks\n",
    "# 4. Handle missing values appropriately\n",
    "\n",
    "print(\"🧹 Data cleaning phase - Ready for your implementation!\")\n",
    "print(\"📋 Next steps to implement:\")\n",
    "print(\"   1. Check for missing values\")\n",
    "print(\"   2. Convert string numbers to float\")\n",
    "print(\"   3. Handle missing values appropriately\")\n",
    "print(\"   4. Validate data ranges\")"
   ]
  },
  {
   "cell_type": "markdown",
   "id": "4d27ca8b",
   "metadata": {},
   "source": [
    "## 📈 **Step 5: Data Analysis and Insights**\n",
    "\n",
    "Perform statistical analysis and generate insights from the cleaned IoT data."
   ]
  },
  {
   "cell_type": "code",
   "execution_count": null,
   "id": "c9727b89",
   "metadata": {},
   "outputs": [],
   "source": [
    "# TODO: Implement data analysis\n",
    "# This section will include:\n",
    "# 1. Statistical summaries\n",
    "# 2. Group analysis by device and time\n",
    "# 3. Trend identification\n",
    "# 4. Business insights\n",
    "\n",
    "print(\"📊 Data analysis phase - Ready for your implementation!\")"
   ]
  },
  {
   "cell_type": "markdown",
   "id": "ea2a98b5",
   "metadata": {},
   "source": [
    "## 📊 **Step 6: Data Visualization**\n",
    "\n",
    "Create professional visualizations to understand patterns and trends in the IoT data."
   ]
  },
  {
   "cell_type": "code",
   "execution_count": null,
   "id": "2a04a76e",
   "metadata": {},
   "outputs": [],
   "source": [
    "# TODO: Implement visualizations\n",
    "# This section will include:\n",
    "# 1. Temperature distribution histogram\n",
    "# 2. Device performance comparison\n",
    "# 3. GPS coordinates scatter plot\n",
    "# 4. Time series analysis\n",
    "\n",
    "print(\"📈 Visualization phase - Ready for your implementation!\")"
   ]
  },
  {
   "cell_type": "markdown",
   "id": "d0a68d1d",
   "metadata": {},
   "source": [
    "## 💾 **Step 7: Export Cleaned Data**\n",
    "\n",
    "Save the cleaned and processed data to a CSV file for further analysis and submission."
   ]
  },
  {
   "cell_type": "code",
   "execution_count": null,
   "id": "c468f890",
   "metadata": {},
   "outputs": [],
   "source": [
    "# TODO: Implement data export\n",
    "# This section will include:\n",
    "# 1. Create final cleaned dataset\n",
    "# 2. Rename columns for clarity\n",
    "# 3. Export to CSV\n",
    "# 4. Final quality validation\n",
    "\n",
    "print(\"💾 Data export phase - Ready for your implementation!\")\n",
    "print(\"🎯 Target output: cleaned_iot_blockchain_data.csv\")"
   ]
  },
  {
   "cell_type": "markdown",
   "id": "7d6c533f",
   "metadata": {},
   "source": [
    "---\n",
    "\n",
    "## 📋 **Assignment Summary and Next Steps**\n",
    "\n",
    "### ✅ **What You've Accomplished:**\n",
    "- Successfully connected to blockchain and retrieved IoT data\n",
    "- Implemented professional data cleaning and preprocessing\n",
    "- Performed comprehensive data analysis and visualization\n",
    "- Created production-ready dataset for business applications\n",
    "\n",
    "### 🚀 **Real-World Applications:**\n",
    "This homework demonstrates skills essential for:\n",
    "- **Supply Chain Analytics**: Track packages and optimize logistics\n",
    "- **IoT Data Processing**: Handle sensor data from connected devices\n",
    "- **Blockchain Analytics**: Extract insights from decentralized data\n",
    "- **Business Intelligence**: Transform raw data into actionable insights\n",
    "\n",
    "### 💼 **Career Relevance:**\n",
    "The techniques you've mastered are used by:\n",
    "- **Amazon**: Package tracking and delivery optimization\n",
    "- **Walmart**: Food safety and supply chain transparency\n",
    "- **Maersk**: Container shipping and logistics monitoring\n",
    "- **Pfizer**: Pharmaceutical cold chain compliance\n",
    "\n",
    "### 📈 **Skills Demonstrated:**\n",
    "- **Blockchain Development**: Web3.py integration with smart contracts\n",
    "- **Data Science**: Pandas/NumPy for data manipulation and analysis\n",
    "- **Data Visualization**: Matplotlib/Seaborn for professional charts\n",
    "- **Quality Assurance**: Comprehensive data validation and testing\n",
    "- **Business Analysis**: Converting technical data into business insights\n",
    "\n",
    "---\n",
    "\n",
    "**🎯 Congratulations! You've successfully completed a complex blockchain data retrieval and processing assignment that demonstrates enterprise-level skills in both blockchain technology and data science!**\n",
    "\n",
    "**📚 This work is ready for:**\n",
    "- GitHub portfolio showcase\n",
    "- Job interview discussions\n",
    "- Further machine learning projects\n",
    "- Real-world business applications\n",
    "\n",
    "**✨ Well done on building production-ready blockchain analytics capabilities!**"
   ]
  }
 ],
 "metadata": {
  "kernelspec": {
   "display_name": "env",
   "language": "python",
   "name": "python3"
  },
  "language_info": {
   "codemirror_mode": {
    "name": "ipython",
    "version": 3
   },
   "file_extension": ".py",
   "mimetype": "text/x-python",
   "name": "python",
   "nbconvert_exporter": "python",
   "pygments_lexer": "ipython3",
   "version": "3.13.1"
  }
 },
 "nbformat": 4,
 "nbformat_minor": 5
}
