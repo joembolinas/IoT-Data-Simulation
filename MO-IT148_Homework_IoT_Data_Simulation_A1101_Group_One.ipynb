{
 "cells": [
  {
   "cell_type": "markdown",
   "id": "3b107a91",
   "metadata": {},
   "source": [
    "## MO-IT148 Homework: IoT Data Simulation\n",
    "## Section: S3101\n",
    "## Group Name: X\n",
    "## Industry Focus: Smart Logistic Tracking\n",
    "## Sensors: GPS, RFID, Temperature\n",
    "\n",
    "This notebook demonstrates how to generate simulated IoT sensor data for smart logistic tracking using Python. We'll create data points including GPS coordinates, RFID tags, and temperature measurements for package tracking."
   ]
  },
  {
   "cell_type": "markdown",
   "id": "60f7e7f1",
   "metadata": {},
   "source": [
    "## Step 1: Install Required Libraries\n",
    "\n",
    "First, let's install the required libraries (if not already installed)."
   ]
  },
  {
   "cell_type": "code",
   "execution_count": null,
   "id": "758e2783",
   "metadata": {},
   "outputs": [],
   "source": [
    "# Run these in a cell if you haven't installed them yet:\n",
    "!pip install pandas numpy"
   ]
  },
  {
   "cell_type": "code",
   "execution_count": null,
   "id": "49d27330",
   "metadata": {},
   "outputs": [],
   "source": [
    "import pandas as pd\n",
    "import numpy as np\n",
    "import random\n",
    "from datetime import datetime, timedelta\n",
    "import time # For simulating real-time data generation intervals\n",
    "\n",
    "print(\"Libraries imported successfully.\")"
   ]
  },
  {
   "cell_type": "markdown",
   "id": "0b55ff61",
   "metadata": {},
   "source": [
    "## Step 2: Define the Function to Generate IoT Data for Smart Logistics"
   ]
  },
  {
   "cell_type": "code",
   "execution_count": null,
   "id": "e210d71b",
   "metadata": {},
   "outputs": [],
   "source": [
    "def generate_logistic_data(num_records=50):\n",
    "    \"\"\"\n",
    "    Generates simulated IoT data for smart logistic tracking.\n",
    "\n",
    "    Args:\n",
    "        num_records (int): The number of data records to generate.\n",
    "\n",
    "    Returns:\n",
    "        pandas.DataFrame: A DataFrame containing the simulated IoT data.\n",
    "    \"\"\"\n",
    "    data = []\n",
    "    \n",
    "    # Base coordinates (e.g., a starting point in a city or warehouse)\n",
    "    # Let's use coordinates around Manila, Philippines for example\n",
    "    current_latitude = 14.5995 \n",
    "    current_longitude = 120.9842\n",
    "    \n",
    "    start_time = datetime.now()\n",
    "\n",
    "    for i in range(num_records):\n",
    "        # Simulate time progression\n",
    "        # Each record is, say, 5 minutes after the previous one\n",
    "        record_timestamp = start_time + timedelta(minutes=i * 5 + random.randint(-2,2)) # Add some jitter\n",
    "        \n",
    "        # 1. Package ID and RFID Tag\n",
    "        package_id = f\"PKG{1000 + i + random.randint(0,5)}\" # e.g., PKG1000, PKG1001\n",
    "        rfid_tag = f\"RFID_{random.randint(10000000, 99999999)}_{random.choice(['A','B','C'])}\" # e.g., RFID_12345678_A\n",
    "\n",
    "        # 2. GPS Data (Simulate movement)\n",
    "        # Add small random increments to simulate movement\n",
    "        # The change should be small to represent movement within a region over time\n",
    "        lat_change = random.uniform(-0.005, 0.005) # Small change for local delivery\n",
    "        lon_change = random.uniform(-0.005, 0.005)\n",
    "        current_latitude += lat_change\n",
    "        current_longitude += lon_change\n",
    "        \n",
    "        # Ensure coordinates stay within reasonable bounds if needed, though for small changes it's less critical\n",
    "        current_latitude = round(max(min(current_latitude, 90.0), -90.0), 6)\n",
    "        current_longitude = round(max(min(current_longitude, 180.0), -180.0), 6)\n",
    "\n",
    "        # 3. Temperature Sensor Data\n",
    "        # Simulate temperature, could be for perishable goods\n",
    "        # Normal ambient temperature, with occasional spikes/dips if simulating refrigeration issues\n",
    "        base_temp = 5.0 # For refrigerated goods\n",
    "        temperature_celsius = round(base_temp + random.uniform(-1.5, 1.5) + (random.randint(0,20)==0)*random.uniform(5,10), 2) # Occasional spike\n",
    "        if temperature_celsius < -10: temperature_celsius = -10.0 # Min temp\n",
    "        if temperature_celsius > 40: temperature_celsius = 40.0 # Max temp (unrefrigerated)\n",
    "\n",
    "\n",
    "        record = {\n",
    "            \"Timestamp\": record_timestamp.strftime('%Y-%m-%d %H:%M:%S'),\n",
    "            \"PackageID\": package_id,\n",
    "            \"RFIDTag\": rfid_tag,\n",
    "            \"Latitude\": current_latitude,\n",
    "            \"Longitude\": current_longitude,\n",
    "            \"Temperature_C\": temperature_celsius,\n",
    "            \"DeviceID\": f\"Tracker_Dev_{101 + (i%5)}\" # Simulate multiple tracker devices\n",
    "        }\n",
    "        data.append(record)\n",
    "        \n",
    "        # Simulate a small delay as if data is being collected in near real-time\n",
    "        # This is more for illustration; for batch generation, it can be omitted.\n",
    "        # time.sleep(0.01) \n",
    "        \n",
    "    df = pd.DataFrame(data)\n",
    "    return df\n",
    "\n",
    "print(\"Data generation function defined.\")"
   ]
  },
  {
   "cell_type": "markdown",
   "id": "e9edddc6",
   "metadata": {},
   "source": [
    "## Step 3: Execute the Script to Generate Data"
   ]
  },
  {
   "cell_type": "code",
   "execution_count": null,
   "id": "cb4df287",
   "metadata": {},
   "outputs": [],
   "source": [
    "# Generate 100 records for our smart logistics system\n",
    "num_simulated_records = 100 \n",
    "iot_df = generate_logistic_data(num_records=num_simulated_records)\n",
    "\n",
    "print(f\"Generated {len(iot_df)} data records.\")"
   ]
  },
  {
   "cell_type": "markdown",
   "id": "d3a2e32a",
   "metadata": {},
   "source": [
    "## Step 4: Confirm that the Generated Dataset Looks Correct"
   ]
  },
  {
   "cell_type": "code",
   "execution_count": null,
   "id": "6f8574e6",
   "metadata": {},
   "outputs": [],
   "source": [
    "print(\"\\nFirst 10 rows of the generated IoT data:\")\n",
    "print(iot_df.head(10))\n",
    "\n",
    "print(\"\\nBasic information about the dataset:\")\n",
    "iot_df.info()\n",
    "\n",
    "print(\"\\nDescriptive statistics of the numerical data:\")\n",
    "print(iot_df.describe())"
   ]
  },
  {
   "cell_type": "markdown",
   "id": "8301819b",
   "metadata": {},
   "source": [
    "## Step 5: Save Your Simulated Data as a CSV File"
   ]
  },
  {
   "cell_type": "code",
   "execution_count": null,
   "id": "2b2e6b9c",
   "metadata": {},
   "outputs": [],
   "source": [
    "csv_filename = \"simulated_logistic_iot_data.csv\"\n",
    "iot_df.to_csv(csv_filename, index=False)\n",
    "\n",
    "print(f\"\\nSimulated IoT data saved to '{csv_filename}' successfully.\")\n",
    "\n",
    "# You can find this file in the same directory as your Jupyter Notebook.\n",
    "# If using Google Colab, it will be in the temporary session storage.\n",
    "# You can download it from Colab's file pane."
   ]
  },
  {
   "cell_type": "markdown",
   "id": "870a3761",
   "metadata": {},
   "source": [
    "## Step 6: Instructions for GitHub Upload\n",
    "\n",
    "### Create a GitHub Repository:\n",
    "\n",
    "1. If you don't have one for this course/project, create a new public repository on GitHub.\n",
    "2. Name it according to the convention: MO-IT148-Homework-IoT-Data-Simulation-<Section>-<GroupName> (e.g., MO-IT148-Homework-IoT-Data-Simulation-A1101-GroupOne).\n",
    "3. You can add a README.md file to describe the project.\n",
    "\n",
    "### Upload Files:\n",
    "\n",
    "1. Navigate to your repository on GitHub.\n",
    "2. Click on \"Add file\" -> \"Upload files\".\n",
    "3. Drag and drop or choose the following files from your computer:\n",
    "   - The Jupyter Notebook file (MO-IT148_Homework_IoT_Data_Simulation_<Section>_<GroupName>.ipynb).\n",
    "   - The generated CSV file (simulated_logistic_iot_data.csv).\n",
    "4. Add a commit message (e.g., \"Initial IoT data simulation for smart logistics\").\n",
    "5. Click \"Commit changes\".\n",
    "\n",
    "### MMDC Drive & Submission:\n",
    "\n",
    "1. Save a copy of your Jupyter Notebook and the CSV file to your MMDC Google Drive folder as instructed.\n",
    "2. Ensure the share settings for the folder or specific files on MMDC Drive are set to \"Anyone at Mapúa Malayan Digital College with the link can comment\" (or \"view\" if \"comment\" isn't critical for this submission).\n",
    "3. Copy the shareable link to your MMDC Drive folder/file.\n",
    "4. Paste this link as your submission on your Learning Management System (e.g., Blackboard). Also include the link to your GitHub repository if required by the submission instructions."
   ]
  },
  {
   "cell_type": "markdown",
   "id": "c04b888a",
   "metadata": {},
   "source": [
    "## Bonus: Data Visualization (Optional)\n",
    "\n",
    "Let's visualize our logistics data to better understand package movements and temperature monitoring."
   ]
  },
  {
   "cell_type": "code",
   "execution_count": null,
   "id": "5e71f36e",
   "metadata": {},
   "outputs": [],
   "source": [
    "# Install plotly if not already installed\n",
    "!pip install plotly"
   ]
  },
  {
   "cell_type": "code",
   "execution_count": null,
   "id": "347a86a5",
   "metadata": {},
   "outputs": [],
   "source": [
    "import plotly.express as px\n",
    "\n",
    "# Convert timestamp to datetime for better plotting\n",
    "iot_df['Timestamp'] = pd.to_datetime(iot_df['Timestamp'])\n",
    "\n",
    "# Create a line plot for temperature over time\n",
    "fig = px.line(iot_df, x=\"Timestamp\", y=\"Temperature_C\", color=\"DeviceID\",\n",
    "             title=\"Temperature Readings Over Time\")\n",
    "fig.show()"
   ]
  },
  {
   "cell_type": "code",
   "execution_count": null,
   "id": "3c813679",
   "metadata": {},
   "outputs": [],
   "source": [
    "# Create a scatter plot for GPS coordinates\n",
    "fig = px.scatter(iot_df, x=\"Longitude\", y=\"Latitude\", \n",
    "                color=\"DeviceID\", hover_name=\"PackageID\",\n",
    "                title=\"Package Locations by GPS Coordinates\")\n",
    "fig.show()"
   ]
  },
  {
   "cell_type": "code",
   "execution_count": null,
   "id": "326ed586",
   "metadata": {},
   "outputs": [],
   "source": [
    "# Create a histogram of temperature readings\n",
    "fig = px.histogram(iot_df, x=\"Temperature_C\", \n",
    "                   title=\"Distribution of Temperature Readings\",\n",
    "                   labels={\"Temperature_C\": \"Temperature (°C)\"})\n",
    "fig.show()"
   ]
  },
  {
   "cell_type": "markdown",
   "id": "11d48700",
   "metadata": {},
   "source": [
    "## Conclusion\n",
    "\n",
    "In this notebook, we've successfully:\n",
    "\n",
    "1. Generated simulated IoT data for smart logistics tracking\n",
    "2. Created realistic data for GPS coordinates, RFID tags, and temperature sensors\n",
    "3. Visualized the data to understand package movements and temperature patterns\n",
    "4. Saved the data to a CSV file for further analysis\n",
    "\n",
    "This simulation provides a foundation for understanding how IoT sensors can be used in logistics and supply chain management to track packages, monitor conditions, and improve overall efficiency."
   ]
  }
 ],
 "metadata": {
  "language_info": {
   "name": "python"
  }
 },
 "nbformat": 4,
 "nbformat_minor": 5
}
